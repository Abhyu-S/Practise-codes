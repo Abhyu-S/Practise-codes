{
 "cells": [
  {
   "cell_type": "code",
   "execution_count": 4,
   "id": "b1f252b5-dde5-49d9-b07f-af3b7e38a60b",
   "metadata": {},
   "outputs": [],
   "source": [
    "import torch\n",
    "import numpy as np"
   ]
  },
  {
   "cell_type": "code",
   "execution_count": 5,
   "id": "b6e8b66b-d67e-403c-aadc-9c615387c2b8",
   "metadata": {},
   "outputs": [
    {
     "name": "stdout",
     "output_type": "stream",
     "text": [
      "torch.float32\n",
      "cpu\n",
      "torch.Size([2, 3])\n",
      "True\n"
     ]
    }
   ],
   "source": [
    "device = 'cuda' if torch.cuda.is_available() else 'cpu'\n",
    "my_tensor = torch.tensor([[1,2,3],[4,5,6]], dtype = torch.float32, device = device, requires_grad = True)\n",
    "\n",
    "print(my_tensor.dtype)\n",
    "print(my_tensor.device)\n",
    "print(my_tensor.shape)\n",
    "print(my_tensor.requires_grad)"
   ]
  },
  {
   "cell_type": "code",
   "execution_count": 6,
   "id": "bd748f10-afc9-4f08-94db-d2fee16bf1b3",
   "metadata": {},
   "outputs": [
    {
     "data": {
      "text/plain": [
       "tensor([[1., 0., 0.],\n",
       "        [0., 1., 0.],\n",
       "        [0., 0., 1.]])"
      ]
     },
     "execution_count": 6,
     "metadata": {},
     "output_type": "execute_result"
    }
   ],
   "source": [
    "#Other common initialization methods\n",
    "\n",
    "x=torch.empty(size = (3,3))\n",
    "x=torch.zeros((3,3))\n",
    "x=torch.rand((3,3))\n",
    "x=torch.ones((3,3))\n",
    "x=torch.eye(5,5) # I for Identity\n",
    "x=torch.arange(start=0, end=5, step=1)\n",
    "x=torch.linspace(start=0.1, end=1, steps=10)\n",
    "x=torch.empty(size=(1,5)).uniform_(0,1)\n",
    "x=torch.empty(size=(1,5)).normal_(mean=0, std=1)\n",
    "x=torch.diag(torch.ones(3))\n",
    "x"
   ]
  },
  {
   "cell_type": "code",
   "execution_count": 7,
   "id": "fd91813d-dc7f-4098-888a-b33646548bdf",
   "metadata": {},
   "outputs": [
    {
     "name": "stdout",
     "output_type": "stream",
     "text": [
      "tensor([[0.8626, 0.8424, 0.5335, 0.3419],\n",
      "        [0.7500, 0.3744, 0.7375, 0.5286],\n",
      "        [0.9824, 0.0993, 0.8785, 0.1178],\n",
      "        [0.1261, 0.8447, 0.4012, 0.3331]])\n",
      "tensor([[0.8626, 0.8424, 0.5335, 0.3419, 0.7500, 0.3744, 0.7375, 0.5286],\n",
      "        [0.9824, 0.0993, 0.8785, 0.1178, 0.1261, 0.8447, 0.4012, 0.3331]])\n"
     ]
    }
   ],
   "source": [
    "x = torch.rand(4,4)\n",
    "print(x)\n",
    "y = x.view(-1,8)\n",
    "print(y)"
   ]
  },
  {
   "cell_type": "markdown",
   "id": "81e1d3f0-2ee7-449f-874c-4018caca3220",
   "metadata": {},
   "source": [
    "# Numpy to tensor"
   ]
  },
  {
   "cell_type": "code",
   "execution_count": 8,
   "id": "6f9980c8-13c2-4a45-841c-82c445abcd2b",
   "metadata": {},
   "outputs": [
    {
     "name": "stdout",
     "output_type": "stream",
     "text": [
      "tensor([1., 1., 1., 1., 1.])\n",
      "[1. 1. 1. 1. 1.]\n"
     ]
    }
   ],
   "source": [
    "a = torch.ones(5)\n",
    "print(a)\n",
    "b = a.numpy()\n",
    "print(b)"
   ]
  },
  {
   "cell_type": "code",
   "execution_count": 9,
   "id": "528074c6-0ec2-43bf-94d8-56833cc5f379",
   "metadata": {},
   "outputs": [
    {
     "name": "stdout",
     "output_type": "stream",
     "text": [
      "tensor([-0.2707, -1.0722,  1.3833], requires_grad=True)\n",
      "tensor([1.7293, 0.9278, 3.3833], grad_fn=<AddBackward0>)\n",
      "tensor(10.1989, grad_fn=<MeanBackward0>)\n",
      "tensor([2.3057, 1.2371, 4.5111])\n"
     ]
    }
   ],
   "source": [
    "x = torch.randn(3, requires_grad = True)\n",
    "print(x)\n",
    "\n",
    "y = x+2\n",
    "print(y)\n",
    "z = y*y*2\n",
    "z = z.mean()\n",
    "print(z)\n",
    "\n",
    "z.backward() #dz/dx\n",
    "print(x.grad)"
   ]
  },
  {
   "cell_type": "code",
   "execution_count": 10,
   "id": "1e6c93df-7d27-41f8-a2b9-b9066f7d861b",
   "metadata": {},
   "outputs": [
    {
     "name": "stdout",
     "output_type": "stream",
     "text": [
      "tensor([ 1.1144, -0.5835, -1.5405], requires_grad=True)\n",
      "tensor([3.1144, 1.4165, 0.4595], grad_fn=<AddBackward0>)\n",
      "tensor([ 1.1144, -0.5835, -1.5405], requires_grad=True)\n"
     ]
    }
   ],
   "source": [
    "x = torch.randn(3, requires_grad = True)\n",
    "print(x)\n",
    "\n",
    "# x.requires_grad_(False)\n",
    "# y = x.detach()\n",
    "# with torch.no_grad():\n",
    "\n",
    "y = x+2\n",
    "print(y)\n",
    "print(x)"
   ]
  },
  {
   "cell_type": "markdown",
   "id": "515258bf-137c-406f-b3c9-140c8c0929ce",
   "metadata": {},
   "source": [
    "## Dummy training examples"
   ]
  },
  {
   "cell_type": "code",
   "execution_count": 11,
   "id": "2374f98d-4529-48d7-a710-2a514ea93bfb",
   "metadata": {},
   "outputs": [
    {
     "name": "stdout",
     "output_type": "stream",
     "text": [
      "tensor([3., 3., 3., 3.])\n",
      "tensor([3., 3., 3., 3.])\n",
      "tensor([3., 3., 3., 3.])\n"
     ]
    }
   ],
   "source": [
    "weights = torch.ones(4, requires_grad = True)\n",
    "\n",
    "for epoch in range(3):\n",
    "    model_output = (weights*3).sum()\n",
    "    model_output.backward()\n",
    "    print(weights.grad)\n",
    "    weights.grad.zero_()"
   ]
  },
  {
   "cell_type": "code",
   "execution_count": 12,
   "id": "4c41bf8d-6ce4-4d1f-aead-9758ce616ea8",
   "metadata": {},
   "outputs": [],
   "source": [
    "# optimizer = torch.optim.SGD(weights, lr = 0.01)\n",
    "# optimizer.step()\n",
    "# optimizer.zero_grad()\n",
    "# print(weights.grad)"
   ]
  },
  {
   "cell_type": "markdown",
   "id": "5d353498",
   "metadata": {},
   "source": [
    "## Backpropagation"
   ]
  },
  {
   "cell_type": "code",
   "execution_count": 13,
   "id": "696abe6f",
   "metadata": {},
   "outputs": [
    {
     "name": "stdout",
     "output_type": "stream",
     "text": [
      "tensor(1., grad_fn=<PowBackward0>)\n",
      "tensor(-2.)\n"
     ]
    }
   ],
   "source": [
    "x = torch.tensor(1.0)\n",
    "\n",
    "y = torch.tensor(2.0)\n",
    "\n",
    "w = torch.tensor(1.0, requires_grad=True)\n",
    "\n",
    "#Forward pass and compute loss\n",
    "y_hat = w*x\n",
    "\n",
    "loss = (y_hat - y)**2\n",
    "\n",
    "print(loss)\n",
    "\n",
    "#backward pass\n",
    "loss.backward()\n",
    "\n",
    "print(w.grad)\n",
    "# w.zero_()\n",
    "###update weights, next forward and backward pass"
   ]
  }
 ],
 "metadata": {
  "kernelspec": {
   "display_name": "Python 3",
   "language": "python",
   "name": "python3"
  },
  "language_info": {
   "codemirror_mode": {
    "name": "ipython",
    "version": 3
   },
   "file_extension": ".py",
   "mimetype": "text/x-python",
   "name": "python",
   "nbconvert_exporter": "python",
   "pygments_lexer": "ipython3",
   "version": "3.13.2"
  }
 },
 "nbformat": 4,
 "nbformat_minor": 5
}
