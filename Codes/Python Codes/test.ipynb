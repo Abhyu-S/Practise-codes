{
 "cells": [
  {
   "cell_type": "code",
   "execution_count": 1,
   "id": "b1f252b5-dde5-49d9-b07f-af3b7e38a60b",
   "metadata": {},
   "outputs": [],
   "source": [
    "import numpy as np"
   ]
  },
  {
   "cell_type": "code",
   "execution_count": 2,
   "id": "b6e8b66b-d67e-403c-aadc-9c615387c2b8",
   "metadata": {},
   "outputs": [],
   "source": [
    "class Layer_Dense:\n",
    "    def __init__(self, n_inputs, n_neurons):\n",
    "        self.weights = 0.10*np.random.randn(n_inputs, n_neurons)\n",
    "        self.biases = np.zeros((1, n_neurons))\n",
    "\n",
    "    def forward(self, inputs):\n",
    "        self.output = np.dot(self.weights, inputs) + self.biases\n",
    "\n",
    "class ReLU_Activation:\n",
    "    def forward(self, inputs):\n",
    "        self.output = np.maximum(0, inputs)\n",
    "\n",
    "class Softmax_Activation:\n",
    "    def forward(self, inputs):\n",
    "        exp_values = np.exp(inputs - np.max(inputs, axis = 1, keepdims = True))\n",
    "        probabilities = exp_values/np.sum(exp_values, axis = 1, keepdims = True)\n",
    "        self.output = probabilities\n",
    "\n",
    "class Loss:\n",
    "    def calculate(self, output, y):\n",
    "        sample_loss = self.forward(output, y)\n",
    "        data_loss = np.mean(sample_loss)\n",
    "        return data_loss\n",
    "\n",
    "    def Loss_CategoricalCrossEntropy(Loss):\n",
    "        def forward(self, y_pred, y_true):\n",
    "            samples = len(y_pred)\n",
    "            y_pred_clipped = np.clip(y_pred, 1e-7, 1-1e-7)\n",
    "            if len(y_true.shape) == 1:\n",
    "                correct_confidences = y_pred_clipped[range(samples), y_true]\n",
    "\n",
    "            elif len(y_true.shape) == 2:\n",
    "                correct_confidences = np.sum(y_pred_clipped*y_true, axis = 1)\n",
    "\n",
    "            negative_log_likelihoods = -np.log(correct_confidences)\n",
    "            return negative_log_likelihoods\n",
    "\n"
   ]
  },
  {
   "cell_type": "code",
   "execution_count": null,
   "id": "f081c5cf-b676-4c05-ae80-7d08f016bbc7",
   "metadata": {},
   "outputs": [],
   "source": []
  },
  {
   "cell_type": "code",
   "execution_count": null,
   "id": "bd748f10-afc9-4f08-94db-d2fee16bf1b3",
   "metadata": {},
   "outputs": [],
   "source": []
  }
 ],
 "metadata": {
  "kernelspec": {
   "display_name": "Python 3 (ipykernel)",
   "language": "python",
   "name": "python3"
  },
  "language_info": {
   "codemirror_mode": {
    "name": "ipython",
    "version": 3
   },
   "file_extension": ".py",
   "mimetype": "text/x-python",
   "name": "python",
   "nbconvert_exporter": "python",
   "pygments_lexer": "ipython3",
   "version": "3.12.7"
  }
 },
 "nbformat": 4,
 "nbformat_minor": 5
}
